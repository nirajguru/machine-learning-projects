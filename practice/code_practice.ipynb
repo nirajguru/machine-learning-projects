{
 "cells": [
  {
   "cell_type": "markdown",
   "metadata": {},
   "source": [
    "# Counting unique words"
   ]
  },
  {
   "cell_type": "markdown",
   "metadata": {},
   "source": [
    "## Counting words in a line using `for` loops"
   ]
  },
  {
   "cell_type": "code",
   "execution_count": null,
   "metadata": {},
   "outputs": [
    {
     "name": "stdout",
     "output_type": "stream",
     "text": [
      "{'hey': 1, 'there': 2}\n",
      "2\n"
     ]
    }
   ],
   "source": [
    "my_line = \"hey there there\"\n",
    "frequency_dict = {}\n",
    "\n",
    "#Go through each word in the line   \n",
    "for word in my_line.split():\n",
    "    if word in frequency_dict:\n",
    "      # Increase the count of times we've seen this word.\n",
    "      frequency_dict[word] += 1\n",
    "    else:\n",
    "      # Add the word to the dictionary.\n",
    "      frequency_dict[word] = 1\n",
    "\n",
    "print(frequency_dict)\n",
    "print\n",
    "print(len(frequency_dict))  # prints number of elements in dictinory\n"
   ]
  },
  {
   "cell_type": "code",
   "execution_count": null,
   "metadata": {},
   "outputs": [
    {
     "name": "stdout",
     "output_type": "stream",
     "text": [
      "mr. hyd\n"
     ]
    }
   ],
   "source": [
    "initial_string = \"Mr. Hyde.\"\n",
    "lowered_string = initial_string.lower()\n",
    "final_string = lowered_string.strip(\".,e\")\n",
    "#my_string.strip(\"abc\") will remove abc from my_string\n",
    "print(final_string)"
   ]
  },
  {
   "cell_type": "markdown",
   "metadata": {},
   "source": [
    "## Counting words using counter from collections"
   ]
  },
  {
   "cell_type": "code",
   "execution_count": 8,
   "metadata": {},
   "outputs": [
    {
     "name": "stdout",
     "output_type": "stream",
     "text": [
      "Counter({'e': 4, 'h': 3, 'y': 2, ' ': 1, 't': 1, 'r': 1})\n",
      "<class 'collections.Counter'>\n",
      "hey 0\n"
     ]
    }
   ],
   "source": [
    "from collections import Counter\n",
    "counter = Counter(\"heyhey there\")\n",
    "print(counter)\n",
    "print(type(counter))\n",
    "key=\"hey\"\n",
    "print(key, counter[key])"
   ]
  },
  {
   "cell_type": "code",
   "execution_count": null,
   "metadata": {},
   "outputs": [
    {
     "name": "stdout",
     "output_type": "stream",
     "text": [
      "[('the', 3), ('ther', 2), ('hey', 2)]\n",
      "0\n"
     ]
    }
   ],
   "source": [
    "from collections import Counter\n",
    "reader = open('data/jekyll.txt')\n",
    "word_counts = Counter()\n",
    "\n",
    "for line in reader:\n",
    "  for word in line.split():\n",
    "    clean_word = word.strip('.;,-“’”:?—‘!()_').lower()\n",
    "    word_counts[clean_word] +=1\n",
    "\n",
    "print(word_counts.most_common(3)) ## use the most common word\n",
    "print(word_counts['hyde'])"
   ]
  },
  {
   "cell_type": "code",
   "execution_count": 7,
   "metadata": {},
   "outputs": [
    {
     "name": "stdout",
     "output_type": "stream",
     "text": [
      "['Where', 'Utterson']\n",
      "['Utterson', 'was']\n",
      "['was', 'liked,']\n",
      "['liked,', 'he']\n",
      "['he', 'was']\n",
      "['was', 'liked']\n",
      "['liked', 'well.']\n"
     ]
    }
   ],
   "source": [
    "window = []\n",
    "sentence = 'Where Utterson was liked, he was liked well.'.split()\n",
    "for word in sentence:\n",
    "    window.append(word)\n",
    "    if len(window) >= 2:\n",
    "        print(window)\n",
    "        window.pop(0) \n"
   ]
  },
  {
   "cell_type": "markdown",
   "metadata": {},
   "source": [
    "`lower()` returns a new lower case string without changing the original string.\n",
    "Strings are immutable. Lists are mutable. so `my_list.append()` would alter the original list.\n",
    "Dictionaries and counters are mutable, but their keys can't be.\n",
    "\n"
   ]
  },
  {
   "cell_type": "code",
   "execution_count": 1,
   "metadata": {},
   "outputs": [
    {
     "name": "stdout",
     "output_type": "stream",
     "text": [
      "DR. JEKYLL WAS QUITE AT EASE\n",
      "dr. jekyll was quite at ease\n"
     ]
    }
   ],
   "source": [
    "my_string = \"DR. JEKYLL WAS QUITE AT EASE\"\n",
    "my_new_string = my_string.lower()\n",
    "print(my_string)\n",
    "print(my_new_string)\n"
   ]
  },
  {
   "cell_type": "markdown",
   "metadata": {},
   "source": [
    "## Successor Map\n",
    "The successor_map holds lists of words that have followed each word that appears in the text."
   ]
  },
  {
   "cell_type": "code",
   "execution_count": 5,
   "metadata": {},
   "outputs": [
    {
     "name": "stdout",
     "output_type": "stream",
     "text": [
      "['thing', 'box']\n",
      "{'ther': ['hey', 'hey'], 'hey': ['ther', 'there'], 'there': ['this'], 'this': ['is', 'method'], 'is': ['a', 'a', 'the', 'to', 'widely'], 'a': ['junk', 'word', 'practical', 'brief', 'tiny', 'habit', 'reflection', 'new', 'supportive', 'significant', 'community'], 'junk': ['test'], 'test': ['to', 'the'], 'to': ['test', 'remarkable', 'significant', 'those', 'results', 'form', 'do', 'do', 'make', 'performing', 'be', 'make', 'become', 'achieve', 'prompt', 'maintain', 'avoid', 'two-minute', 'start', 'adopt', 'both', 'make'], 'the': ['frequency', 'the', 'mysterious', 'development', 'key', 'book', 'end', 'year', 'book', 'systems', 'processes', 'cues', 'habits', 'easier', 'more', 'chances', 'book', 'established', 'current', 'new', 'cues', 'bad', '\"two-minute', 'influence', 'habits'], 'frequency': ['of'], 'of': ['a', 'small', 'the', 'small', '1%', 'the', 'focusing', 'behavior', 'repeating', 'identity', 'the', 'good', 'family', 'those', 'success'], 'word': ['the'], 'mysterious': ['thing', 'box'], 'thing': ['mysterious'], 'box': ['\"atomic'], '\"atomic': ['habits\"', 'habits\"'], 'habits\"': ['by', 'is'], 'by': ['james', 'the', 'improving', 'working'], 'james': ['clear'], 'clear': ['is', 'emphasizes', 'introduces', 'suggests', 'advocates', 'points', 'recommends', 'framework'], 'practical': ['guide', 'strategies'], 'guide': ['focused'], 'focused': ['on'], 'on': ['the', 'systems', 'goals', 'the', 'our', 'who', 'our'], 'development': ['of'], 'small': ['habits', 'habits**'], 'habits': ['that', 'because', 'and', 'are', 'you', 'you', 'more', 'the', 'feel', 'are', 'we', 'in', 'obvious', 'to', 'being', 'you'], 'that': ['lead', 'minor', 'instead', 'lead', 'lead', 'the', 'habits', 'it’s', 'embodies', 'can'], 'lead': ['to', 'to', 'to'], 'remarkable': ['results'], 'results': ['over', 'and'], 'over': ['time', 'time'], 'time': [\"here's\", 'a'], \"here's\": ['a'], 'brief': ['summary'], 'summary': ['of'], 'key': ['concepts'], 'concepts': ['from'], 'from': ['the'], 'book': ['1', 'suggests', 'also'], '1': ['**the'], '**the': ['compound', 'four', 'two-minute', 'role'], 'compound': ['effect', 'over'], 'effect': ['of'], 'habits**': ['clear'], 'emphasizes': ['that'], 'minor': ['changes'], 'changes': ['can'], 'can': ['grow', 'ensure', 'have', 'dramatically', 'be'], 'grow': ['into'], 'into': ['powerful'], 'powerful': ['habits'], 'because': ['their'], 'their': ['effects'], 'effects': ['compound'], 'tiny': ['improvement'], 'improvement': ['of'], '1%': ['every'], 'every': ['day'], 'day': ['leads'], 'leads': ['to'], 'significant': ['growth', 'impact'], 'growth': ['by'], 'end': ['of'], 'year': ['2'], '2': ['**focus'], '**focus': ['on'], 'systems': ['not', 'that', 'are'], 'not': ['goals**', 'just'], 'goals**': ['the'], 'suggests': ['that', 'focusing'], 'instead': ['of'], 'focusing': ['on', 'on'], 'goals': ['one', 'systems'], 'one': ['should', 'this'], 'should': ['concentrate'], 'concentrate': ['on'], 'those': ['goals', 'around'], 'are': ['the', 'visible', 'a', 'reshaping'], 'processes': ['that'], 'and': ['by', 'break', 'apparent', 'the', 'friends**', 'its', 'professional'], 'improving': ['these'], 'these': ['you'], 'you': ['can', 'need', 'want', 'scale', 'want'], 'ensure': ['consistent'], 'consistent': ['progress'], 'progress': ['3'], '3': ['**the'], 'four': ['laws', 'practical'], 'laws': ['of'], 'behavior': ['change**', '6'], 'change**': ['clear', 'the'], 'introduces': ['four'], 'strategies': ['to'], 'form': ['good'], 'good': ['habits', 'habits', 'habits', 'habits', 'habits', 'habits'], 'break': ['bad'], 'bad': ['ones', 'ones'], 'ones': ['', 'invisible'], '': ['**make', '**make', '**make', '**make'], '**make': ['it', 'it', 'it', 'it'], 'it': ['obvious**', 'attractive**', 'easy**', 'is', 'satisfying**'], 'obvious**': ['design'], 'design': ['your'], 'your': ['environment', 'likelihood'], 'environment': ['so', 'make'], 'so': ['that'], 'cues': ['for', 'of', 'of'], 'for': ['good', \"'habit\", 'its'], 'visible': ['and'], 'apparent': [''], 'attractive**': ['bundle'], 'bundle': ['habits'], 'need': ['to'], 'do': ['with', 'to'], 'with': ['habits'], 'want': ['to', 'to', 'to'], 'make': ['the', 'good', 'the', 'lasting'], 'more': ['appealing', 'likely'], 'appealing': [''], 'easy**': ['reduce'], 'reduce': ['friction'], 'friction': ['to'], 'performing': ['good'], 'easier': ['a', 'to'], 'habit': ['is', 'onto', 'to'], 'likely': ['it'], 'be': ['performed', 'applied'], 'performed': [''], 'satisfying**': ['use'], 'use': ['reinforcement'], 'reinforcement': ['to'], 'feel': ['rewarding'], 'rewarding': ['which'], 'which': ['increases'], 'increases': ['the'], 'chances': ['of'], 'repeating': ['them'], 'them': ['4', 'easy'], '4': ['**identity'], '**identity': ['change**'], 'also': ['argues'], 'argues': ['that'], 'reflection': ['of'], 'identity': ['by'], 'working': ['on'], 'our': ['habits', 'identities', 'habits'], 'we': ['are', 'wish', 'want'], 'reshaping': ['our'], 'identities': ['clear'], 'who': ['we'], 'wish': ['to'], 'become': ['not'], 'just': ['what'], 'what': ['we'], 'achieve': ['5'], '5': ['**habit'], '**habit': ['stacking**'], 'stacking**': ['clear'], 'advocates': ['for'], \"'habit\": [\"stacking'\"], \"stacking'\": ['building'], 'building': ['a'], 'new': ['habit', 'behavior', 'habits'], 'onto': ['an'], 'an': ['existing'], 'existing': ['one'], 'method': ['leverages'], 'leverages': ['the'], 'established': ['cues'], 'current': ['habit'], 'prompt': ['the'], '6': ['**environment'], '**environment': ['design**'], 'design**': ['clear'], 'points': ['out'], 'out': ['that'], 'it’s': ['easier'], 'maintain': ['good'], 'in': ['a', 'a'], 'supportive': ['environment'], 'obvious': ['and'], 'invisible': ['7'], '7': ['**the'], 'two-minute': ['rule**', 'versions'], 'rule**': ['to'], 'avoid': ['procrastination'], 'procrastination': ['clear'], 'recommends': ['the'], '\"two-minute': ['rule,\"'], 'rule,\"': ['where'], 'where': ['you'], 'scale': ['down'], 'down': ['new'], 'versions': ['making'], 'making': ['them'], 'easy': ['to'], 'start': ['8'], '8': ['**the'], 'role': ['of'], 'family': ['and'], 'friends**': ['the'], 'influence': ['of'], 'around': ['us'], 'us': ['can'], 'have': ['a'], 'impact': ['on'], 'being': ['in'], 'community': ['that'], 'embodies': ['the'], 'adopt': ['can'], 'dramatically': ['increase'], 'increase': ['your'], 'likelihood': ['of'], 'success': ['\"atomic'], 'widely': ['appreciated'], 'appreciated': ['for'], 'its': ['practicality', 'clear'], 'practicality': ['and'], 'framework': ['that'], 'applied': ['to'], 'both': ['personal'], 'personal': ['and'], 'professional': ['life'], 'life': ['to'], 'lasting': ['changes']}\n"
     ]
    }
   ],
   "source": [
    "reader = open('data/jekyll.txt')\n",
    "successor_map = {}\n",
    "window = []\n",
    "\n",
    "\n",
    "for line in reader:\n",
    "  for word in line.split():\n",
    "    clean_word = word.strip('.;,-“’”:?—‘!()_').lower()\n",
    "    window.append(clean_word)\n",
    "  \n",
    "    if len(window) == 2:\n",
    "      if window[0] not in successor_map:\n",
    "        successor_map[window[0]] = [window[1]]\n",
    "        # add code here\n",
    "      else:\n",
    "        # add code here\n",
    "        successor_map[window[0]].append(window[1])\n",
    "      window.pop(0)\n",
    "\n",
    "print(successor_map['mysterious'])\n",
    "print(successor_map)"
   ]
  },
  {
   "cell_type": "markdown",
   "metadata": {},
   "source": [
    "## Guessing the next word based on a starting word\n",
    "- random.seed(2) generates the same output everytime. removing random.seed() generates new content everytime.\n",
    "-  We will build a simple n gram model, which uses only one word to choose the next one. This word is called **context**."
   ]
  },
  {
   "cell_type": "code",
   "execution_count": 58,
   "metadata": {},
   "outputs": [
    {
     "name": "stdout",
     "output_type": "stream",
     "text": [
      "['is', 'emphasizes', 'introduces', 'suggests', 'advocates', 'points', 'recommends', 'framework']\n",
      "clear points out that instead of repeating them easy to do with habits that the "
     ]
    }
   ],
   "source": [
    "import random\n",
    "reader = open('data/jekyll.txt')\n",
    "successor_map = {}\n",
    "window = []\n",
    "\n",
    "\n",
    "for line in reader:\n",
    "  for word in line.split():\n",
    "    clean_word = word.strip('.;,-“’”:?—‘!()_').lower()\n",
    "    window.append(clean_word)\n",
    "  \n",
    "    if len(window) == 2:\n",
    "      if window[0] not in successor_map:\n",
    "        successor_map[window[0]] = [window[1]]\n",
    "      else:\n",
    "        successor_map[window[0]].append(window[1])\n",
    "      window.pop(0)\n",
    "\n",
    "word = 'clear'\n",
    "successors = successor_map[word]\n",
    "print(successors)\n",
    "\n",
    "\n",
    "# To get the same result everytime, use random.seed()\n",
    "#random.seed(2)\n",
    "\n",
    "for i in range(15):\n",
    "  print(word, end=' ') # this prints the words on a single line\n",
    "  # add your code here to get the next word.\n",
    "  next_word = random.choice((successor_map[word]))\n",
    "  word = next_word\n",
    "\n"
   ]
  }
 ],
 "metadata": {
  "kernelspec": {
   "display_name": ".venv",
   "language": "python",
   "name": "python3"
  },
  "language_info": {
   "codemirror_mode": {
    "name": "ipython",
    "version": 3
   },
   "file_extension": ".py",
   "mimetype": "text/x-python",
   "name": "python",
   "nbconvert_exporter": "python",
   "pygments_lexer": "ipython3",
   "version": "3.10.12"
  }
 },
 "nbformat": 4,
 "nbformat_minor": 2
}
